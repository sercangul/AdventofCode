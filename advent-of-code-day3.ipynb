{
 "cells": [
  {
   "cell_type": "code",
   "execution_count": 1,
   "id": "e4253fc8",
   "metadata": {},
   "outputs": [
    {
     "data": {
      "text/plain": [
       "8243"
      ]
     },
     "execution_count": 1,
     "metadata": {},
     "output_type": "execute_result"
    }
   ],
   "source": [
    "#Part 1 \n",
    "\n",
    "# Using readlines()\n",
    "file1 = open('input.txt', 'r')\n",
    "Lines = file1.readlines()\n",
    "  \n",
    "my_str = []\n",
    "sum_priorities = 0\n",
    "\n",
    "for line in Lines:\n",
    "    n=len(line)\n",
    "    word_1 = line[0:n//2]\n",
    "    word_2 = line[n//2:n]\n",
    "    for w in set(word_1):\n",
    "        if w in word_2:\n",
    "            #my_str.append(w)\n",
    "            if w.isupper():\n",
    "                sum_priorities += (ord(w)-38)\n",
    "            if w.islower():\n",
    "                sum_priorities += (ord(w)-96)\n",
    "                \n",
    "sum_priorities"
   ]
  },
  {
   "cell_type": "code",
   "execution_count": 2,
   "id": "96606f6e",
   "metadata": {},
   "outputs": [
    {
     "data": {
      "text/plain": [
       "2631"
      ]
     },
     "execution_count": 2,
     "metadata": {},
     "output_type": "execute_result"
    }
   ],
   "source": [
    "#Part 2\n",
    "\n",
    "# Using readlines()\n",
    "file1 = open('input.txt', 'r')\n",
    "Lines = file1.readlines()\n",
    "  \n",
    "my_str = []\n",
    "sum_priorities = 0\n",
    "\n",
    "i=0\n",
    "while i < len(Lines):\n",
    "    word_1 = Lines[i][:-1]\n",
    "    word_2 = Lines[i+1][:-1]\n",
    "    word_3 = Lines[i+2][:-1]\n",
    "    for w in set(word_1):\n",
    "        if w in word_2:\n",
    "            if w in word_3:\n",
    "                my_str.append(w)\n",
    "                if w.isupper():\n",
    "                    sum_priorities += (ord(w)-38)\n",
    "                if w.islower():\n",
    "                    sum_priorities += (ord(w)-96)\n",
    "    i = i+3\n",
    "\n",
    "sum_priorities"
   ]
  }
 ],
 "metadata": {
  "kernelspec": {
   "display_name": "Python 3 (ipykernel)",
   "language": "python",
   "name": "python3"
  },
  "language_info": {
   "codemirror_mode": {
    "name": "ipython",
    "version": 3
   },
   "file_extension": ".py",
   "mimetype": "text/x-python",
   "name": "python",
   "nbconvert_exporter": "python",
   "pygments_lexer": "ipython3",
   "version": "3.9.7"
  }
 },
 "nbformat": 4,
 "nbformat_minor": 5
}
