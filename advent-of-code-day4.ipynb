{
 "cells": [
  {
   "cell_type": "code",
   "execution_count": 1,
   "id": "e4253fc8",
   "metadata": {},
   "outputs": [
    {
     "data": {
      "text/plain": [
       "573"
      ]
     },
     "execution_count": 1,
     "metadata": {},
     "output_type": "execute_result"
    }
   ],
   "source": [
    "#Part 1 \n",
    "\n",
    "# Using readlines()\n",
    "file1 = open('input.txt', 'r')\n",
    "Lines = file1.readlines()\n",
    "  \n",
    "count = 0\n",
    "\n",
    "for line in Lines:\n",
    "    fs_fn = line.split(',')[0].split('-')[0] #first set first number\n",
    "    fs_sn = line.split(',')[0].split('-')[1] #second set second number\n",
    "    ss_fn = line.split(',')[1].split('-')[0] #second set first number\n",
    "    ss_sn = line.split(',')[1].split('-')[1] #second set second number\n",
    "    \n",
    "    #Does first set completly involve the second set?\n",
    "    if int(fs_fn)<= int(ss_fn) and int(fs_sn)>=int(ss_sn):\n",
    "        count += 1\n",
    "    \n",
    "    #Does second set completly involve the first set?\n",
    "    if int(fs_fn) >= int(ss_fn) and int(ss_sn) >= int(fs_sn):\n",
    "        count += 1\n",
    "     \n",
    "    if int(fs_fn) == int(ss_fn) and int(ss_sn) == int(fs_sn):\n",
    "        count -= 1 #to eliminate double counts\n",
    "    \n",
    "count"
   ]
  },
  {
   "cell_type": "code",
   "execution_count": 2,
   "id": "a100a78c",
   "metadata": {},
   "outputs": [
    {
     "data": {
      "text/plain": [
       "867"
      ]
     },
     "execution_count": 2,
     "metadata": {},
     "output_type": "execute_result"
    }
   ],
   "source": [
    "#Part 2\n",
    "\n",
    "# Using readlines()\n",
    "file1 = open('input.txt', 'r')\n",
    "Lines = file1.readlines()\n",
    "  \n",
    "count = 0\n",
    "\n",
    "for line in Lines:\n",
    "    fs_fn = line.split(',')[0].split('-')[0] #first set first number\n",
    "    fs_sn = line.split(',')[0].split('-')[1] #second set second number\n",
    "    ss_fn = line.split(',')[1].split('-')[0] #second set first number\n",
    "    ss_sn = line.split(',')[1].split('-')[1] #second set second number\n",
    "    \n",
    "    #Does first set completly involve the second set?\n",
    "    if int(fs_sn)>= int(ss_fn) and int(ss_sn)>= int(fs_fn):\n",
    "        count += 1\n",
    "        \n",
    "count"
   ]
  },
  {
   "cell_type": "code",
   "execution_count": null,
   "id": "83f0a745",
   "metadata": {},
   "outputs": [],
   "source": []
  }
 ],
 "metadata": {
  "kernelspec": {
   "display_name": "Python 3 (ipykernel)",
   "language": "python",
   "name": "python3"
  },
  "language_info": {
   "codemirror_mode": {
    "name": "ipython",
    "version": 3
   },
   "file_extension": ".py",
   "mimetype": "text/x-python",
   "name": "python",
   "nbconvert_exporter": "python",
   "pygments_lexer": "ipython3",
   "version": "3.9.7"
  }
 },
 "nbformat": 4,
 "nbformat_minor": 5
}
